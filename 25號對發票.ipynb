{
 "cells": [
  {
   "cell_type": "code",
   "execution_count": 15,
   "metadata": {},
   "outputs": [
    {
     "name": "stdout",
     "output_type": "stream",
     "text": [
      "請輸入發票末三碼436\n",
      "中獎了!請輸入完整發票號碼!!\n",
      "請輸入發票完整八碼19614436\n",
      "恭喜中特獎200萬!\n"
     ]
    }
   ],
   "source": [
    "a = input(\"請輸入發票末三碼\")\n",
    "\n",
    "num = ['818','012','420','436','621']\n",
    "six = ['928','899']\n",
    "speX = '45698621'\n",
    "spe = '19614436'\n",
    "fp = ['96182420','47464012','62781818']\n",
    "fp0 = ['420','012','818']\n",
    "fpa = ['2420','4012','1818']\n",
    "fpb = ['82420' , '64012','81818']\n",
    "fpc = ['182420' , '464012' , '781818']\n",
    "fpd = ['6182420' , '7464012' , '2781818']\n",
    "\n",
    "\n",
    "if(len(a) == 3):\n",
    "    if(a in num):\n",
    "        print(\"中獎了!請輸入完整發票號碼!!\")\n",
    "        b = input(\"請輸入發票完整八碼\")\n",
    "        if(b == speX):\n",
    "            print(\"恭喜中特別獎1000萬!\")\n",
    "        elif(b == spe):\n",
    "            print(\"恭喜中特獎200萬!\")\n",
    "        elif(b in fp):\n",
    "            print(\"恭喜中特獎20萬!\")\n",
    "        elif(b[1:8] in fpd):\n",
    "            print(\"恭喜中40000元!\")\n",
    "        elif(b[2:8] in fpc):\n",
    "            print(\"恭喜中10000元!\")\n",
    "        elif(b[3:8] in fpb):\n",
    "            print(\"恭喜中4000元!\")\n",
    "        elif(b[4:8] in fpa):\n",
    "            print(\"恭喜中1000元!\")        \n",
    "        elif(b[5:8] in fp0):\n",
    "            print(\"恭喜中200元!\")\n",
    "        else:\n",
    "            print('請輸入正確八碼')\n",
    "    elif(a in six):\n",
    "        print(\"中獎了!恭喜中特別獎200元!\")\n",
    "    else:\n",
    "        print(\"可惜沒有中獎!下個月再加油\")\n",
    "else:\n",
    "    print(\"請輸入正確的發票末三碼！\")\n",
    "            \n",
    "            \n",
    "        \n",
    "        \n",
    "        \n",
    "        \n",
    "    "
   ]
  }
 ],
 "metadata": {
  "kernelspec": {
   "display_name": "Python 3",
   "language": "python",
   "name": "python3"
  },
  "language_info": {
   "codemirror_mode": {
    "name": "ipython",
    "version": 3
   },
   "file_extension": ".py",
   "mimetype": "text/x-python",
   "name": "python",
   "nbconvert_exporter": "python",
   "pygments_lexer": "ipython3",
   "version": "3.7.3"
  }
 },
 "nbformat": 4,
 "nbformat_minor": 2
}
