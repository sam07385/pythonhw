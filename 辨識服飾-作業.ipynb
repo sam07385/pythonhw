{
 "cells": [
  {
   "cell_type": "code",
   "execution_count": 5,
   "metadata": {},
   "outputs": [],
   "source": [
    "%matplotlib inline\n",
    "import numpy as np\n",
    "import matplotlib.pyplot as plt"
   ]
  },
  {
   "cell_type": "markdown",
   "metadata": {},
   "source": [
    "### 1.輸入Fashion MNIST數據集"
   ]
  },
  {
   "cell_type": "code",
   "execution_count": 6,
   "metadata": {},
   "outputs": [],
   "source": [
    "from tensorflow.keras.datasets import fashion_mnist "
   ]
  },
  {
   "cell_type": "code",
   "execution_count": 7,
   "metadata": {},
   "outputs": [],
   "source": [
    "(x_train, y_train),(x_test, y_test) =fashion_mnist.load_data()"
   ]
  },
  {
   "cell_type": "markdown",
   "metadata": {},
   "source": [
    "### 2.欣賞數據集內容"
   ]
  },
  {
   "cell_type": "code",
   "execution_count": 8,
   "metadata": {},
   "outputs": [],
   "source": [
    "class_names = ['T-shirt/top', 'Trouser', 'Pullover', 'Dress', 'Coat',\n",
    "               'Sandal', 'Shirt', 'Sneaker', 'Bag', 'Ankle boot']"
   ]
  },
  {
   "cell_type": "code",
   "execution_count": 9,
   "metadata": {},
   "outputs": [
    {
     "data": {
      "text/plain": [
       "60000"
      ]
     },
     "execution_count": 9,
     "metadata": {},
     "output_type": "execute_result"
    }
   ],
   "source": [
    "len(x_train) "
   ]
  },
  {
   "cell_type": "code",
   "execution_count": 10,
   "metadata": {},
   "outputs": [
    {
     "data": {
      "text/plain": [
       "10000"
      ]
     },
     "execution_count": 10,
     "metadata": {},
     "output_type": "execute_result"
    }
   ],
   "source": [
    "len(x_test)"
   ]
  },
  {
   "cell_type": "code",
   "execution_count": 11,
   "metadata": {},
   "outputs": [
    {
     "name": "stdout",
     "output_type": "stream",
     "text": [
      "這是 Trouser\n"
     ]
    },
    {
     "data": {
      "image/png": "[encoded data removed]",
      "text/plain": [
       "<Figure size 432x288 with 1 Axes>"
      ]
     },
     "metadata": {
      "needs_background": "light"
     },
     "output_type": "display_data"
    }
   ],
   "source": [
    "n = 6666\n",
    "print('這是', class_names[y_train[n]])\n",
    "plt.imshow(x_train[n], cmap='Greys');"
   ]
  },
  {
   "cell_type": "code",
   "execution_count": 12,
   "metadata": {},
   "outputs": [
    {
     "data": {
      "image/png": "[encoded data removed]",
      "text/plain": [
       "<Figure size 432x288 with 5 Axes>"
      ]
     },
     "metadata": {},
     "output_type": "display_data"
    }
   ],
   "source": [
    "pick = np.random.choice(60000, 5, replace=False)\n",
    "\n",
    "for i in range(5):\n",
    "    n = pick[i]\n",
    "    ax = plt.subplot(151+i)\n",
    "    ax.set_xticks([])\n",
    "    ax.set_yticks([])\n",
    "    ax.set_title(class_names[y_train[n]], fontsize=10)\n",
    "    plt.imshow(x_train[n], cmap='Greys')  "
   ]
  },
  {
   "cell_type": "code",
   "execution_count": 13,
   "metadata": {},
   "outputs": [
    {
     "data": {
      "text/plain": [
       "array([20151, 54295, 49173,  3533, 13340])"
      ]
     },
     "execution_count": 13,
     "metadata": {},
     "output_type": "execute_result"
    }
   ],
   "source": [
    "pick"
   ]
  },
  {
   "cell_type": "markdown",
   "metadata": {},
   "source": [
    "### 3.資料整理"
   ]
  },
  {
   "cell_type": "code",
   "execution_count": 14,
   "metadata": {},
   "outputs": [],
   "source": [
    "x_train= x_train/255\n",
    "x_test= x_test/255"
   ]
  },
  {
   "cell_type": "code",
   "execution_count": 15,
   "metadata": {},
   "outputs": [
    {
     "data": {
      "text/plain": [
       "(60000, 28, 28)"
      ]
     },
     "execution_count": 15,
     "metadata": {},
     "output_type": "execute_result"
    }
   ],
   "source": [
    "x_train.shape"
   ]
  },
  {
   "cell_type": "code",
   "execution_count": 16,
   "metadata": {},
   "outputs": [],
   "source": [
    "x_train= x_train.reshape(60000,784)\n",
    "x_test= x_test.reshape(10000,784)"
   ]
  },
  {
   "cell_type": "code",
   "execution_count": 17,
   "metadata": {},
   "outputs": [],
   "source": [
    "from tensorflow.keras.utils import to_categorical"
   ]
  },
  {
   "cell_type": "code",
   "execution_count": 18,
   "metadata": {},
   "outputs": [],
   "source": [
    "y_train= to_categorical(y_train,10)\n",
    "y_test= to_categorical(y_test,10)"
   ]
  },
  {
   "cell_type": "markdown",
   "metadata": {},
   "source": [
    "### 4.打造神經網路\n",
    "\n",
    "* 第一層與第二層都以64個神經元為此神經網路的架構\n",
    "* 而learning rate設為0.05566"
   ]
  },
  {
   "cell_type": "code",
   "execution_count": 19,
   "metadata": {},
   "outputs": [],
   "source": [
    "from tensorflow.keras.models import Sequential\n",
    "from tensorflow.keras.layers import Dense \n",
    "from tensorflow.keras.optimizers import SGD"
   ]
  },
  {
   "cell_type": "code",
   "execution_count": 20,
   "metadata": {},
   "outputs": [],
   "source": [
    "mymodel= Sequential()"
   ]
  },
  {
   "cell_type": "code",
   "execution_count": 21,
   "metadata": {},
   "outputs": [],
   "source": [
    "mymodel.add(Dense(64, input_dim=784, activation='relu')) "
   ]
  },
  {
   "cell_type": "code",
   "execution_count": 22,
   "metadata": {},
   "outputs": [],
   "source": [
    "mymodel.add(Dense(64, activation='relu'))"
   ]
  },
  {
   "cell_type": "code",
   "execution_count": 23,
   "metadata": {},
   "outputs": [],
   "source": [
    "mymodel.add(Dense(10, activation='softmax'))"
   ]
  },
  {
   "cell_type": "code",
   "execution_count": 24,
   "metadata": {},
   "outputs": [],
   "source": [
    "mymodel.compile(loss='mse', optimizer=SGD(lr=0.05566), metrics=['accuracy'])"
   ]
  },
  {
   "cell_type": "code",
   "execution_count": 25,
   "metadata": {},
   "outputs": [
    {
     "name": "stdout",
     "output_type": "stream",
     "text": [
      "Model: \"sequential\"\n",
      "_________________________________________________________________\n",
      "Layer (type)                 Output Shape              Param #   \n",
      "=================================================================\n",
      "dense (Dense)                (None, 64)                50240     \n",
      "_________________________________________________________________\n",
      "dense_1 (Dense)              (None, 64)                4160      \n",
      "_________________________________________________________________\n",
      "dense_2 (Dense)              (None, 10)                650       \n",
      "=================================================================\n",
      "Total params: 55,050\n",
      "Trainable params: 55,050\n",
      "Non-trainable params: 0\n",
      "_________________________________________________________________\n"
     ]
    }
   ],
   "source": [
    "mymodel.summary()"
   ]
  },
  {
   "cell_type": "markdown",
   "metadata": {},
   "source": [
    "### 5.訓練\n",
    "\n",
    "* batch size設為100，epochs設為20\n",
    "* 定義一個函數:說明神經網路辨別的結果，並將矩陣視覺化"
   ]
  },
  {
   "cell_type": "code",
   "execution_count": 26,
   "metadata": {},
   "outputs": [
    {
     "name": "stdout",
     "output_type": "stream",
     "text": [
      "Train on 60000 samples\n",
      "Epoch 1/20\n",
      "60000/60000 [==============================] - 3s 44us/sample - loss: 0.0820 - accuracy: 0.3724\n",
      "Epoch 2/20\n",
      "60000/60000 [==============================] - 2s 34us/sample - loss: 0.0583 - accuracy: 0.6160\n",
      "Epoch 3/20\n",
      "60000/60000 [==============================] - 2s 35us/sample - loss: 0.0453 - accuracy: 0.6832\n",
      "Epoch 4/20\n",
      "60000/60000 [==============================] - 2s 31us/sample - loss: 0.0392 - accuracy: 0.7367\n",
      "Epoch 5/20\n",
      "60000/60000 [==============================] - 2s 30us/sample - loss: 0.0355 - accuracy: 0.7697\n",
      "Epoch 6/20\n",
      "60000/60000 [==============================] - 2s 30us/sample - loss: 0.0329 - accuracy: 0.7875\n",
      "Epoch 7/20\n",
      "60000/60000 [==============================] - 2s 30us/sample - loss: 0.0311 - accuracy: 0.7978\n",
      "Epoch 8/20\n",
      "60000/60000 [==============================] - 2s 29us/sample - loss: 0.0297 - accuracy: 0.8058\n",
      "Epoch 9/20\n",
      "60000/60000 [==============================] - 2s 29us/sample - loss: 0.0285 - accuracy: 0.8121\n",
      "Epoch 10/20\n",
      "60000/60000 [==============================] - 2s 31us/sample - loss: 0.0277 - accuracy: 0.8172\n",
      "Epoch 11/20\n",
      "60000/60000 [==============================] - 2s 31us/sample - loss: 0.0270 - accuracy: 0.8209\n",
      "Epoch 12/20\n",
      "60000/60000 [==============================] - 2s 34us/sample - loss: 0.0264 - accuracy: 0.8236\n",
      "Epoch 13/20\n",
      "60000/60000 [==============================] - 2s 34us/sample - loss: 0.0259 - accuracy: 0.8273\n",
      "Epoch 14/20\n",
      "60000/60000 [==============================] - 2s 31us/sample - loss: 0.0254 - accuracy: 0.8293\n",
      "Epoch 15/20\n",
      "60000/60000 [==============================] - 2s 31us/sample - loss: 0.0250 - accuracy: 0.8323\n",
      "Epoch 16/20\n",
      "60000/60000 [==============================] - 2s 31us/sample - loss: 0.0247 - accuracy: 0.8347\n",
      "Epoch 17/20\n",
      "60000/60000 [==============================] - 2s 33us/sample - loss: 0.0243 - accuracy: 0.8361\n",
      "Epoch 18/20\n",
      "60000/60000 [==============================] - 2s 32us/sample - loss: 0.0240 - accuracy: 0.8375\n",
      "Epoch 19/20\n",
      "60000/60000 [==============================] - 2s 34us/sample - loss: 0.0238 - accuracy: 0.8392\n",
      "Epoch 20/20\n",
      "60000/60000 [==============================] - 2s 34us/sample - loss: 0.0235 - accuracy: 0.8411\n"
     ]
    },
    {
     "data": {
      "text/plain": [
       "<tensorflow.python.keras.callbacks.History at 0x278ab8fdb48>"
      ]
     },
     "execution_count": 26,
     "metadata": {},
     "output_type": "execute_result"
    }
   ],
   "source": [
    "mymodel.fit(x_train, y_train, batch_size=100, epochs=20)"
   ]
  },
  {
   "cell_type": "code",
   "execution_count": 27,
   "metadata": {},
   "outputs": [],
   "source": [
    "result= mymodel.predict_classes(x_test)"
   ]
  },
  {
   "cell_type": "code",
   "execution_count": 28,
   "metadata": {},
   "outputs": [],
   "source": [
    "def show_result(p):\n",
    "    print('神經網路說是:',class_names[result[p]])\n",
    "    plt.imshow(x_test[p].reshape(28,28),cmap='Greys')"
   ]
  },
  {
   "cell_type": "code",
   "execution_count": 29,
   "metadata": {},
   "outputs": [
    {
     "name": "stdout",
     "output_type": "stream",
     "text": [
      "神經網路說是: Sneaker\n"
     ]
    },
    {
     "data": {
      "image/png": "[encoded data removed]",
      "text/plain": [
       "<Figure size 432x288 with 1 Axes>"
      ]
     },
     "metadata": {
      "needs_background": "light"
     },
     "output_type": "display_data"
    }
   ],
   "source": [
    "show_result(45)"
   ]
  },
  {
   "cell_type": "code",
   "execution_count": 30,
   "metadata": {},
   "outputs": [
    {
     "name": "stdout",
     "output_type": "stream",
     "text": [
      "神經網路說是: T-shirt/top\n"
     ]
    },
    {
     "data": {
      "image/png": "[encoded data removed]",
      "text/plain": [
       "<Figure size 432x288 with 1 Axes>"
      ]
     },
     "metadata": {
      "needs_background": "light"
     },
     "output_type": "display_data"
    }
   ],
   "source": [
    "show_result(4561)"
   ]
  },
  {
   "cell_type": "code",
   "execution_count": null,
   "metadata": {},
   "outputs": [],
   "source": []
  }
 ],
 "metadata": {
  "kernelspec": {
   "display_name": "Python 3",
   "language": "python",
   "name": "python3"
  },
  "language_info": {
   "codemirror_mode": {
    "name": "ipython",
    "version": 3
   },
   "file_extension": ".py",
   "mimetype": "text/x-python",
   "name": "python",
   "nbconvert_exporter": "python",
   "pygments_lexer": "ipython3",
   "version": "3.7.4"
  }
 },
 "nbformat": 4,
 "nbformat_minor": 2
}
